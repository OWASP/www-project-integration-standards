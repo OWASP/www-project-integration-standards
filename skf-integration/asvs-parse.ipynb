{
 "cells": [
  {
   "cell_type": "markdown",
   "metadata": {},
   "source": [
    "#### Import libs"
   ]
  },
  {
   "cell_type": "code",
   "execution_count": 1,
   "metadata": {},
   "outputs": [],
   "source": [
    "import pandas as pd\n",
    "import numpy as np"
   ]
  },
  {
   "cell_type": "markdown",
   "metadata": {},
   "source": [
    "#### Read ASVS from CSV file"
   ]
  },
  {
   "cell_type": "code",
   "execution_count": 2,
   "metadata": {},
   "outputs": [],
   "source": [
    "asvs = pd.read_csv(\"asvs402.csv\") \n",
    "df = pd.DataFrame(asvs)"
   ]
  },
  {
   "cell_type": "markdown",
   "metadata": {},
   "source": [
    "#### Get the Owasp proactive control from requirement description"
   ]
  },
  {
   "cell_type": "code",
   "execution_count": 3,
   "metadata": {},
   "outputs": [],
   "source": [
    "df['OPC'] = df['req_description'].apply(\n",
    "    lambda st: \n",
    "    st[st.find(\"[\")+1:st.find(\"]\")]\n",
    ")"
   ]
  },
  {
   "cell_type": "code",
   "execution_count": 4,
   "metadata": {},
   "outputs": [],
   "source": [
    "df['OPC'] = df['OPC'].apply(\n",
    "    lambda st:\n",
    "    'None'\n",
    "    if len(st) > 5\n",
    "    else st)"
   ]
  },
  {
   "cell_type": "markdown",
   "metadata": {},
   "source": [
    "#### Remove all whitespace and enters from cheatsheet input"
   ]
  },
  {
   "cell_type": "code",
   "execution_count": 5,
   "metadata": {},
   "outputs": [],
   "source": [
    "df['cheat_sheets'] = df['cheat_sheets'].str.replace(\"\\n\",\",\")\n",
    "df['cheat_sheets'] = df['cheat_sheets'].str.replace(\"\\r\",\"\")"
   ]
  },
  {
   "cell_type": "markdown",
   "metadata": {},
   "source": [
    "#### Iterate over the rows to create the YAML formats"
   ]
  },
  {
   "cell_type": "code",
   "execution_count": 6,
   "metadata": {},
   "outputs": [],
   "source": [
    "for index, row in df.iterrows():\n",
    "    yaml = '''\n",
    "- CRE-ID-lookup-from-taxonomy-table: \n",
    "    CS: {chapter_name}\n",
    "    CWE: {cwe}\n",
    "    NIST: {NIST}\n",
    "    Description: \n",
    "    Development guide (does not exist for SessionManagement): ''\n",
    "    ID-taxonomy-lookup-from-ASVS-mapping: This still a thing?\n",
    "    Item: {req_id}\n",
    "    Name:\n",
    "    OPC: {OPC}\n",
    "    Top10 (lookup): {top10} \n",
    "    WSTG: {WSTG}\n",
    "    cheat_sheets: {cheat_sheets}\n",
    "'''.format(\n",
    "        chapter_name = row[\"chapter_name\"],\n",
    "        req_id = row[\"req_id\"],\n",
    "        cwe = int(row[\"cwe\"]),\n",
    "        NIST = row[\"nist\"],\n",
    "        OPC = row[\"OPC\"],\n",
    "        WSTG = row[\"WSTG\"],\n",
    "        top10 = row[\"top10\"],\n",
    "        cheat_sheets = row[\"cheat_sheets\"]\n",
    "    )\n",
    "    file_object = open('output.yaml', 'a+')\n",
    "    file_object.write(yaml)\n",
    "    file_object.close()"
   ]
  },
  {
   "cell_type": "code",
   "execution_count": null,
   "metadata": {},
   "outputs": [],
   "source": []
  }
 ],
 "metadata": {
  "kernelspec": {
   "display_name": "Python 3",
   "language": "python",
   "name": "python3"
  },
  "language_info": {
   "codemirror_mode": {
    "name": "ipython",
    "version": 3
   },
   "file_extension": ".py",
   "mimetype": "text/x-python",
   "name": "python",
   "nbconvert_exporter": "python",
   "pygments_lexer": "ipython3",
   "version": "3.7.7"
  }
 },
 "nbformat": 4,
 "nbformat_minor": 4
}
